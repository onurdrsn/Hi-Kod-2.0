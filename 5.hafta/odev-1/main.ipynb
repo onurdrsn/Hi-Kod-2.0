{
 "cells": [
  {
   "cell_type": "markdown",
   "id": "fa0e21d9-e23c-4924-8dc1-0076be36b4c2",
   "metadata": {},
   "source": [
    "> #### 1. Ödev\n",
    ">\n",
    "> - Kullanıcıdan pi değeri ve yarıçap bilgisi alarak dairenin alanını hesaplayan bir fonksiyon oluşturulur."
   ]
  },
  {
   "cell_type": "code",
   "execution_count": 3,
   "id": "976fbc83-8219-4c2f-9515-730fec5a0f69",
   "metadata": {},
   "outputs": [],
   "source": [
    "def daire_alani_hesaplama():\n",
    "    \"\"\"\n",
    "    Kullanıcıdan alınan pi (π) ve dairenin yarıçap değerini kullanarak dairenin alanını hesaplayan bir fonksiyon.\n",
    "    \n",
    "    Kullanım:\n",
    "    - Kullanıcıdan pi (π) ve dairenin yarıçap değeri alınır.\n",
    "    - Eğer kullanıcı geçerli bir sayı girmezse, hata mesajı verilir ve tekrar giriş yapılması beklenir.\n",
    "    - Dairenin alanı, pi (π) ile yarıçapın karesinin çarpımı olarak hesaplanır.\n",
    "    \n",
    "    :return: Dairenin alanı\n",
    "    \"\"\"\n",
    "    while True:\n",
    "        try:\n",
    "            pi = float(input(\"Pi değeri giriniz: \"))\n",
    "            yaricap = float(input(\"Dairenin yarıçap değerini giriniz: \"))\n",
    "            break\n",
    "        except ValueError:\n",
    "            print(\"Error value\")\n",
    "    alan = pi * yaricap**2\n",
    "    return alan"
   ]
  },
  {
   "cell_type": "code",
   "execution_count": 4,
   "id": "35a5041d-33d3-4b24-accb-12dcb6eeaa75",
   "metadata": {},
   "outputs": [
    {
     "name": "stdin",
     "output_type": "stream",
     "text": [
      "Pi değeri giriniz:  s\n"
     ]
    },
    {
     "name": "stdout",
     "output_type": "stream",
     "text": [
      "Error value\n"
     ]
    },
    {
     "name": "stdin",
     "output_type": "stream",
     "text": [
      "Pi değeri giriniz:  3.11\n",
      "Dairenin yarıçap değerini giriniz:  5\n"
     ]
    },
    {
     "data": {
      "text/plain": [
       "77.75"
      ]
     },
     "execution_count": 4,
     "metadata": {},
     "output_type": "execute_result"
    }
   ],
   "source": [
    "daire_alani_hesaplama()"
   ]
  },
  {
   "cell_type": "markdown",
   "id": "4b7ad88b-c824-4d49-bfdf-0edf9d15bdd8",
   "metadata": {},
   "source": [
    "> #### 2. Ödev\n",
    ">\n",
    "> - Faktöriyel adında fonksiyon oluşturulur. Döngü kullanarak parametre olarak girilen sayının faktöriyeli hesaplanır. Format metodunu kullanılarak ekrana yazdırılır."
   ]
  },
  {
   "cell_type": "code",
   "execution_count": 6,
   "id": "e5a7496b-75bb-4442-a973-8436125e77a5",
   "metadata": {},
   "outputs": [],
   "source": [
    "def faktoriyel(sayi):\n",
    "    \"\"\"\n",
    "    Verilen sayının faktöriyelini hesaplayan bir rekürsif fonksiyon.\n",
    "\n",
    "    Kullanım:\n",
    "    - Eğer sayı 0 veya 1 ise, faktöriyel 1'dir.\n",
    "    - Eğer sayı 2 veya daha büyükse, sayı ile (sayı-1)'in faktöriyeli çarpılarak recursive olarak hesaplanır.\n",
    "    \n",
    "    :param sayi: Faktöriyeli alınacak olan sayı\n",
    "    :return: Sayının faktöriyeli\n",
    "    \"\"\"\n",
    "    if sayi == 0 or sayi == 1:\n",
    "        return 1\n",
    "    return sayi * faktoriyel(sayi -1)"
   ]
  },
  {
   "cell_type": "code",
   "execution_count": 20,
   "id": "c2c05d0b-c9ae-4584-95b3-470e4370c0bf",
   "metadata": {},
   "outputs": [
    {
     "name": "stdin",
     "output_type": "stream",
     "text": [
      "Faktoriyel hesaplamak için sayı giriniz:  sad\n"
     ]
    },
    {
     "name": "stdout",
     "output_type": "stream",
     "text": [
      "Error Value\n"
     ]
    },
    {
     "name": "stdin",
     "output_type": "stream",
     "text": [
      "Faktoriyel hesaplamak için sayı giriniz:  5\n"
     ]
    },
    {
     "name": "stdout",
     "output_type": "stream",
     "text": [
      "Girilen sayı değeri = 5\n",
      "Faktöriyeli = 120\n"
     ]
    }
   ],
   "source": [
    "while True:\n",
    "    try:\n",
    "        sayi = int(input(\"Faktoriyel hesaplamak için sayı giriniz: \"))\n",
    "        break\n",
    "    except ValueError:\n",
    "        print(\"Error Value\")\n",
    "\n",
    "print(\"Girilen sayı değeri = {}\\nFaktöriyeli = {}\".format(sayi, faktoriyel(sayi)))"
   ]
  },
  {
   "cell_type": "markdown",
   "id": "d52887f6-f08a-465f-a583-3a3a0ea86f43",
   "metadata": {},
   "source": [
    "> #### 3. Ödev\n",
    ">\n",
    "> - Doğum yılı ve isim bilgisi verilen fonksiyon kişinin emekli olup olmadığını söylesin.(Kişi 65 yaşında ise emekli olur.) Burada yaş hesabını yukarıdaki örnekteki fonksiyonu kullanarak yapsın.(Yani fonksiyon içinde fonksiyon kullanmanızı istiyorum :)) Kişi 65 yaşında ya da daha fazlaysa \"Emekli oldunuz\" yanıtını, 65 yaşından küçükse emekliliğine kaç yıl kaldığını da hesaplayarak \"(isim) emekliliğine (yıl) kaldı.\" yanıtını versin."
   ]
  },
  {
   "cell_type": "code",
   "execution_count": 23,
   "id": "147160a4-abc0-42ba-9d03-d20f76df0344",
   "metadata": {},
   "outputs": [],
   "source": [
    "from datetime import datetime"
   ]
  },
  {
   "cell_type": "code",
   "execution_count": 53,
   "id": "c498ec66-6e53-448a-a849-64d2c89e9965",
   "metadata": {},
   "outputs": [],
   "source": [
    "def emeklilik_durumu(name, birth_year, retirement_age=65):\n",
    "    \"\"\"\n",
    "    Verilen doğum yılına ve isme göre emeklilik durumunu değerlendiren bir fonksiyon.\n",
    "\n",
    "    Kullanım:\n",
    "    - Doğum yılı ve isim parametre olarak alınır.\n",
    "    - Emeklilik yaşı parametresi verilmezse varsayılan olarak 65'i kullanacaktır.\n",
    "    - Şu anki yılı almak için datetime modülü kullanılır.\n",
    "    - Verilen doğum yılına göre yaş hesaplanır ve emeklilik yaşı ile karşılaştırılır.\n",
    "    - Eğer kişi emekli olmuşsa, ekrana emekli bilgisi yazdırılır.\n",
    "    - Eğer kişi emekli olmamışsa, emeklilik yaşına kaç yıl kaldığı bilgisi yazdırılır.\n",
    "\n",
    "    :param name: Kişinin adı\n",
    "    :param birth_year: Emeklilik durumu hesaplanacak kişinin doğum yılı\n",
    "    :param retirement_age: Emeklilik yaşı (varsayılan olarak 65)\n",
    "    \"\"\"\n",
    "    # niye böyle iç içe fonksiyon istediniz ki :)\n",
    "    def yas_hesaplama():\n",
    "        # şu anki yılı getirtmek için\n",
    "        current_year = datetime.now().year\n",
    "        return current_year - birth_year\n",
    "    age = yas_hesaplama()\n",
    "    if age >= retirement_age:\n",
    "        print(f\"{name}, you have retired.\")\n",
    "    else:\n",
    "        years_left = retirement_age - age\n",
    "        print(f\"{name}, you have {years_left} years until restirement.\")"
   ]
  },
  {
   "cell_type": "code",
   "execution_count": 55,
   "id": "c0c5c556-4797-465b-8854-359259ee16e4",
   "metadata": {},
   "outputs": [
    {
     "name": "stdin",
     "output_type": "stream",
     "text": [
      "Adınızı giriniz:  Onur\n",
      "Doğum yılınızı giriniz:  2002\n"
     ]
    },
    {
     "name": "stdout",
     "output_type": "stream",
     "text": [
      "Onur, you have 43 years until restirement.\n"
     ]
    }
   ],
   "source": [
    "while True:\n",
    "    try:\n",
    "        name = str(input(\"Adınızı giriniz: \"))\n",
    "        birth_year = int(input(\"Doğum yılınızı giriniz: \"))\n",
    "        break\n",
    "    except ValueError:\n",
    "        print(\"Value Error\")\n",
    "\n",
    "emeklilik_durumu(name, birth_year)"
   ]
  },
  {
   "cell_type": "code",
   "execution_count": null,
   "id": "09eb8594-4f79-46d2-b709-bf5e09da9adf",
   "metadata": {},
   "outputs": [],
   "source": []
  }
 ],
 "metadata": {
  "kernelspec": {
   "display_name": "anaconda-panel-2023.05-py310",
   "language": "python",
   "name": "conda-env-anaconda-panel-2023.05-py310-py"
  },
  "language_info": {
   "codemirror_mode": {
    "name": "ipython",
    "version": 3
   },
   "file_extension": ".py",
   "mimetype": "text/x-python",
   "name": "python",
   "nbconvert_exporter": "python",
   "pygments_lexer": "ipython3",
   "version": "3.11.5"
  }
 },
 "nbformat": 4,
 "nbformat_minor": 5
}
