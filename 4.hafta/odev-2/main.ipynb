{
 "cells": [
  {
   "cell_type": "markdown",
   "source": [
    "## 1. Ödev\n",
    "\n",
    "**Kullanıcıdan maaş bilgisini istenir ve bu bilgiye göre maaşından ne kadar vergi kesileceğini hesaplanır. Kullanıcının geliri;**\n",
    "\n",
    "**10000 ve altındaysa maaşından %5 kesinti olur.**\n",
    "**25000 ve altındaysa maaşından %10 kesinti olur.**\n",
    "**45000 ve altındaysa maaşından %25 kesinti olur.**\n",
    "**Diğer koşullarda %30 kesinti olur.**\n",
    "\n",
    "**Bu durumlara göre kullanıcının yeni maaşı yazdırılır.**\n",
    "\n"
   ],
   "metadata": {
    "collapsed": false
   },
   "id": "71332f40cf29dd5"
  },
  {
   "cell_type": "code",
   "outputs": [
    {
     "name": "stdout",
     "output_type": "stream",
     "text": [
      "New Salary: 22500.0\n"
     ]
    }
   ],
   "source": [
    "salary = None\n",
    "while True:\n",
    "    try:\n",
    "        salary = input(\"Please enter your salary: \")\n",
    "        if salary.isnumeric():\n",
    "            salary = int(salary)\n",
    "            break\n",
    "    except ValueError:\n",
    "        print(\"Invalid value\")\n",
    "\n",
    "\n",
    "if salary <= 10000:\n",
    "    deduction_rate = 0.05\n",
    "elif salary <= 25000:\n",
    "    deduction_rate = 0.10\n",
    "elif salary <= 45000:\n",
    "    deduction_rate = 0.25\n",
    "else:\n",
    "    deduction_rate = 0.30\n",
    "\n",
    "new_salary = salary - (salary * deduction_rate)\n",
    "print(f\"New Salary: {new_salary}\")"
   ],
   "metadata": {
    "collapsed": false,
    "ExecuteTime": {
     "end_time": "2024-01-22T14:41:24.586642299Z",
     "start_time": "2024-01-22T14:41:17.848426820Z"
    }
   },
   "id": "a6b99c688cd28a19",
   "execution_count": 2
  },
  {
   "cell_type": "markdown",
   "source": [
    "## 2. Ödev\n",
    "> #### Kullanıcıdan kullanıcı adı ve şifre oluşturmasını istenir. Şifrenin uzunluğu altı haneye ulaşmışsa hesabınız oluşturuldu mesajı alınır, altı haneden azsa altı haneli şifre oluşturması gerektiğinin mesajı alınır.\n",
    "> \n",
    "> *Sadece koşul kullanılması yeterli.*"
   ],
   "metadata": {
    "collapsed": false
   },
   "id": "f1591347ce469f28"
  },
  {
   "cell_type": "code",
   "outputs": [
    {
     "name": "stdout",
     "output_type": "stream",
     "text": [
      "Your account has been created.\n"
     ]
    }
   ],
   "source": [
    "username = input(\"Username: \")\n",
    "password = input(\"Password: \")\n",
    "\n",
    "if len(password) >= 6:\n",
    "    print(\"Hesabınız oluşturuldu.\")\n",
    "else:\n",
    "    print(\"Altı basamaklı bir parola oluşturmalısınız.\")"
   ],
   "metadata": {
    "collapsed": false,
    "ExecuteTime": {
     "end_time": "2024-01-22T14:58:44.189489596Z",
     "start_time": "2024-01-22T14:58:36.744953158Z"
    }
   },
   "id": "c394ffb17019f7bf",
   "execution_count": 3
  },
  {
   "cell_type": "markdown",
   "source": [
    "## 3. Ödev\n",
    "> #### Bir önceki örneği geliştirmek\n",
    ">\n",
    "> - Kullanıcı girdiği şifre 5 ve 10 hane arasında olmak zorunda. \n",
    "> - Eğer bu koşula uyuyorsa \"Hesabınız oluşturuldu.\" mesajı alır. \n",
    "> - Koşulu sağlamıyorsa \"Lütfen girdiniz şifre 5 haneden az 10 haneden fazla olmasın!\" uyarısı alır.\n",
    "> - Bunu oluştururken kullanıcı istediğimiz şartlarda şifre oluşturana kadar sormaya devam eder "
   ],
   "metadata": {
    "collapsed": false
   },
   "id": "b6e226c0add332ae"
  },
  {
   "cell_type": "code",
   "outputs": [
    {
     "name": "stdout",
     "output_type": "stream",
     "text": [
      "Requirement already satisfied: colorama in /home/alcatraz/Desktop/Hi-Kod 2.0/4. hafta/venv/lib/python3.11/site-packages (0.4.6)\r\n",
      "\r\n",
      "\u001B[1m[\u001B[0m\u001B[34;49mnotice\u001B[0m\u001B[1;39;49m]\u001B[0m\u001B[39;49m A new release of pip is available: \u001B[0m\u001B[31;49m23.2.1\u001B[0m\u001B[39;49m -> \u001B[0m\u001B[32;49m23.3.2\u001B[0m\r\n",
      "\u001B[1m[\u001B[0m\u001B[34;49mnotice\u001B[0m\u001B[1;39;49m]\u001B[0m\u001B[39;49m To update, run: \u001B[0m\u001B[32;49mpip install --upgrade pip\u001B[0m\r\n"
     ]
    }
   ],
   "source": [
    "!pip install colorama"
   ],
   "metadata": {
    "collapsed": false,
    "ExecuteTime": {
     "end_time": "2024-01-22T15:12:12.764899084Z",
     "start_time": "2024-01-22T15:12:12.005479233Z"
    }
   },
   "id": "278e3d886460c18d",
   "execution_count": 12
  },
  {
   "cell_type": "code",
   "outputs": [],
   "source": [
    "import getpass\n",
    "import colorama"
   ],
   "metadata": {
    "collapsed": false,
    "ExecuteTime": {
     "end_time": "2024-01-22T15:12:12.770346741Z",
     "start_time": "2024-01-22T15:12:12.767438117Z"
    }
   },
   "id": "927ae1e906e778cd",
   "execution_count": 13
  },
  {
   "cell_type": "code",
   "outputs": [],
   "source": [
    "red = colorama.Fore.LIGHTRED_EX\n",
    "green = colorama.Fore.LIGHTGREEN_EX\n",
    "reset = colorama.Style.RESET_ALL"
   ],
   "metadata": {
    "collapsed": false,
    "ExecuteTime": {
     "end_time": "2024-01-22T15:14:03.416425265Z",
     "start_time": "2024-01-22T15:14:03.407531455Z"
    }
   },
   "id": "7f562089146739eb",
   "execution_count": 16
  },
  {
   "cell_type": "code",
   "outputs": [
    {
     "name": "stdout",
     "output_type": "stream",
     "text": [
      "\u001B[91mLütfen girdiniz şifre 5 haneden az 10 haneden fazla olmasın!\u001B[0m\n",
      "\u001B[92mHesabınız oluşturuldu.\u001B[0m\n",
      "Username: \u001B[92monur\u001B[0m\n",
      "Password: \u001B[92m21345\u001B[0m\n"
     ]
    }
   ],
   "source": [
    "def control(value):\n",
    "    \"\"\"\n",
    "    Bir metnin sadece ASCII karakterlerinden oluşup oluşmadığını kontrol eder.\n",
    "    :param value: Kontrol edilecek string.\n",
    "    :return: Metin sadece ASCII karakterlerinden oluşuyorsa True, değilse False.\n",
    "    \"\"\"\n",
    "    if all(c.isascii() for c in value):\n",
    "        return True\n",
    "    return False\n",
    "\n",
    "while True:\n",
    "    try:\n",
    "        username = input(\"Username: \")\n",
    "        password = getpass.getpass(\"Password: \")\n",
    "\n",
    "        if 5 <= len(password) <= 10 and control(password):\n",
    "            print(f\"{green}Hesabınız oluşturuldu.{reset}\")\n",
    "            break\n",
    "        else:\n",
    "             print(f\"{red}Lütfen girdiniz şifre 5 haneden az 10 haneden fazla olmasın!{reset}\")\n",
    "    except ValueError:\n",
    "        print(\"Something wrong!\")\n",
    "\n",
    "print(f\"Username: {green}{username}{reset}\")\n",
    "print(f\"Password: {green}{password}{reset}\")"
   ],
   "metadata": {
    "collapsed": false,
    "ExecuteTime": {
     "end_time": "2024-01-22T15:25:35.007246241Z",
     "start_time": "2024-01-22T15:25:29.203216101Z"
    }
   },
   "id": "d8078597f1298be3",
   "execution_count": 23
  },
  {
   "cell_type": "markdown",
   "source": [
    "## 4. Ödev\n",
    "> #### Kullanıcıdan isim ve şifre isteyeceğiz ve şifre girişi için üç hak verilir.\n",
    ">\n",
    "> - Eğer önceden tanımlı şifre ile kullanıcıdan gelen şifre aynıysa \"Giriş yapıldı.\" yazar. \n",
    "> - Şifre girişi yanlışsa \"Yanlış şifre girildi!\" uyarısı verilsin ve üç yanlış denemede program biter. \n",
    "> - Tercihe göre kalan hak bilgisi verilir. "
   ],
   "metadata": {
    "collapsed": false
   },
   "id": "974c4d68ac908b59"
  },
  {
   "cell_type": "code",
   "outputs": [],
   "source": [
    "def login(password_):\n",
    "    \"\"\"\n",
    "        Kullanıcı adından gelen şifreyi kontrol eder.\n",
    "        :param password_: Kullanıcı tarafından girilen şifre.\n",
    "        :return: Giriş başarılıysa True, değilse False.\n",
    "    \"\"\"\n",
    "    defined_password = \"password\"\n",
    "\n",
    "    if password_ != defined_password:\n",
    "        print(f\"{red}Yanlış şifre girildi! Girilen şifre {green}{password_}{reset}\")\n",
    "        return False\n",
    "    print(f\"{green}Giriş yapıldı.{reset}\")\n",
    "    return True"
   ],
   "metadata": {
    "collapsed": false,
    "ExecuteTime": {
     "end_time": "2024-01-22T15:38:27.836731294Z",
     "start_time": "2024-01-22T15:38:27.793624372Z"
    }
   },
   "id": "9a64a89ce1a5ff63",
   "execution_count": 30
  },
  {
   "cell_type": "code",
   "outputs": [
    {
     "name": "stdout",
     "output_type": "stream",
     "text": [
      "\u001B[91mYanlış şifre girildi! Girilen şifre \u001B[92msd\u001B[0m\n",
      "\u001B[91mYanlış şifre girildi! Girilen şifre \u001B[92msd\u001B[0m\n",
      "\u001B[91mYanlış şifre girildi! Girilen şifre \u001B[92msd\u001B[0m\n",
      "\u001B[91mHakkınız bitmiştir.\u001B[0m\n"
     ]
    }
   ],
   "source": [
    "rigth = 3\n",
    "while rigth > 0:\n",
    "    username = input(\"Username: \")\n",
    "    _password = getpass.getpass(\"Password: \")\n",
    "\n",
    "    if login(_password):\n",
    "        break\n",
    "    rigth -= 1\n",
    "    if rigth == 0:\n",
    "        print(f\"{red}Hakkınız bitmiştir.{reset}\")\n",
    "    rigth_input = input(\"Kalan hakkınızı görmek istiyor musunuz? (yes/no)\")\n",
    "    if rigth_input in {'yes' or 'no' or 'y' or 'n'}:\n",
    "        print(f\"{rigth} hakkınız kaldı.\")"
   ],
   "metadata": {
    "collapsed": false,
    "ExecuteTime": {
     "end_time": "2024-01-22T15:38:32.616567315Z",
     "start_time": "2024-01-22T15:38:28.769247725Z"
    }
   },
   "id": "742dbce4e66154b8",
   "execution_count": 31
  }
 ],
 "metadata": {
  "kernelspec": {
   "display_name": "Python 3",
   "language": "python",
   "name": "python3"
  },
  "language_info": {
   "codemirror_mode": {
    "name": "ipython",
    "version": 2
   },
   "file_extension": ".py",
   "mimetype": "text/x-python",
   "name": "python",
   "nbconvert_exporter": "python",
   "pygments_lexer": "ipython2",
   "version": "2.7.6"
  }
 },
 "nbformat": 4,
 "nbformat_minor": 5
}
