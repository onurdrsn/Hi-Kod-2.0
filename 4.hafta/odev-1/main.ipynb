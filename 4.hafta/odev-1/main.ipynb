{
 "cells": [
  {
   "cell_type": "code",
   "outputs": [
    {
     "name": "stdout",
     "output_type": "stream",
     "text": [
      "Requirement already satisfied: colorama in ./venv/lib/python3.11/site-packages (0.4.6)\r\n",
      "\r\n",
      "\u001B[1m[\u001B[0m\u001B[34;49mnotice\u001B[0m\u001B[1;39;49m]\u001B[0m\u001B[39;49m A new release of pip is available: \u001B[0m\u001B[31;49m23.2.1\u001B[0m\u001B[39;49m -> \u001B[0m\u001B[32;49m23.3.2\u001B[0m\r\n",
      "\u001B[1m[\u001B[0m\u001B[34;49mnotice\u001B[0m\u001B[1;39;49m]\u001B[0m\u001B[39;49m To update, run: \u001B[0m\u001B[32;49mpip install --upgrade pip\u001B[0m\r\n"
     ]
    }
   ],
   "source": [
    "!pip install colorama"
   ],
   "metadata": {
    "collapsed": false,
    "ExecuteTime": {
     "end_time": "2024-01-22T14:35:52.141721488Z",
     "start_time": "2024-01-22T14:35:51.387813553Z"
    }
   },
   "id": "905efaedfb602f47",
   "execution_count": 1
  },
  {
   "cell_type": "code",
   "outputs": [],
   "source": [
    "import colorama"
   ],
   "metadata": {
    "collapsed": false,
    "ExecuteTime": {
     "end_time": "2024-01-22T14:35:52.145899882Z",
     "start_time": "2024-01-22T14:35:52.142093197Z"
    }
   },
   "id": "fdf512d0cbb117ad",
   "execution_count": 2
  },
  {
   "cell_type": "markdown",
   "source": [
    "## 1. Ödev\n",
    "**Değişkenlere atanmış değerlerin veri tipleri arasında dönüşüm yapılır.**\n",
    "\n"
   ],
   "metadata": {
    "collapsed": false
   },
   "id": "e23bad04157e70f3"
  },
  {
   "cell_type": "markdown",
   "source": [
    "### Define Variables"
   ],
   "metadata": {
    "collapsed": false
   },
   "id": "51229c0d41768f57"
  },
  {
   "cell_type": "code",
   "outputs": [],
   "source": [
    "x = 10\n",
    "y = 0.1\n",
    "z = \"Hello World\"\n",
    "t = True"
   ],
   "metadata": {
    "collapsed": false,
    "ExecuteTime": {
     "end_time": "2024-01-22T14:35:52.149724996Z",
     "start_time": "2024-01-22T14:35:52.144437744Z"
    }
   },
   "id": "b59ca13ff396fedc",
   "execution_count": 3
  },
  {
   "cell_type": "markdown",
   "source": [
    "### Type Variables"
   ],
   "metadata": {
    "collapsed": false
   },
   "id": "dfc82f75b55dc1ca"
  },
  {
   "cell_type": "code",
   "outputs": [
    {
     "name": "stdout",
     "output_type": "stream",
     "text": [
      "Variable=10 Type=<class 'int'>\n",
      "Variable=0.1 Type=<class 'float'>\n",
      "Variable=Hello World Type=<class 'str'>\n",
      "Variable=True Type=<class 'bool'>\n"
     ]
    }
   ],
   "source": [
    "print(f\"Variable={x} Type={type(x)}\")\n",
    "print(f\"Variable={y} Type={type(y)}\")\n",
    "print(f\"Variable={z} Type={type(z)}\")\n",
    "print(f\"Variable={t} Type={type(t)}\")"
   ],
   "metadata": {
    "collapsed": false,
    "ExecuteTime": {
     "end_time": "2024-01-22T14:35:52.156759185Z",
     "start_time": "2024-01-22T14:35:52.149841996Z"
    }
   },
   "id": "94e94cf46bde164b",
   "execution_count": 4
  },
  {
   "cell_type": "markdown",
   "source": [
    "### Type Conversion"
   ],
   "metadata": {
    "collapsed": false
   },
   "id": "a2d1f2ef97d61029"
  },
  {
   "cell_type": "code",
   "outputs": [],
   "source": [
    "reset = colorama.Style.RESET_ALL\n",
    "red = colorama.Fore.RED\n",
    "green = colorama.Fore.GREEN\n",
    "blue = colorama.Fore.BLUE"
   ],
   "metadata": {
    "collapsed": false,
    "ExecuteTime": {
     "end_time": "2024-01-22T14:35:52.160266120Z",
     "start_time": "2024-01-22T14:35:52.155405987Z"
    }
   },
   "id": "7795a3662a42947a",
   "execution_count": 5
  },
  {
   "cell_type": "code",
   "outputs": [
    {
     "name": "stdout",
     "output_type": "stream",
     "text": [
      "\u001B[32mOld Variable=10\u001B[0m \u001B[34mOld Type=<class 'int'>\u001B[0m\n",
      "\u001B[31mNew Value=10.0\u001B[0m \u001B[34mNew Type=<class 'float'>\u001B[0m\n",
      "\u001B[32mOld Variable=10\u001B[0m \u001B[34mOld Type=<class 'int'>\u001B[0m\n",
      "\u001B[31mNew Value=10\u001B[0m \u001B[34mNew Type=<class 'str'>\u001B[0m\n",
      "\u001B[32mOld Variable=10\u001B[0m \u001B[34mOld Type=<class 'int'>\u001B[0m\n",
      "\u001B[31mNew Value=True\u001B[0m \u001B[34mNew Type=<class 'bool'>\u001B[0m\n"
     ]
    }
   ],
   "source": [
    "# change variable type x with new variables\n",
    "x_new = float(x)\n",
    "print(f\"{green}Old Variable={x}{reset} {blue}Old Type={type(x)}{reset}\")\n",
    "print(f\"{red}New Value={x_new}{reset} {blue}New Type={type(x_new)}{reset}\")\n",
    "\n",
    "x_new_2 = str(x)\n",
    "print(f\"{green}Old Variable={x}{reset} {blue}Old Type={type(x)}{reset}\")\n",
    "print(f\"{red}New Value={x_new_2}{reset} {blue}New Type={type(x_new_2)}{reset}\")\n",
    "\n",
    "x_new_3 = bool(x)\n",
    "print(f\"{green}Old Variable={x}{reset} {blue}Old Type={type(x)}{reset}\")\n",
    "print(f\"{red}New Value={x_new_3}{reset} {blue}New Type={type(x_new_3)}{reset}\")"
   ],
   "metadata": {
    "collapsed": false,
    "ExecuteTime": {
     "end_time": "2024-01-22T14:35:52.201081742Z",
     "start_time": "2024-01-22T14:35:52.160303590Z"
    }
   },
   "id": "9e9388f76947bf01",
   "execution_count": 6
  },
  {
   "cell_type": "code",
   "outputs": [
    {
     "name": "stdout",
     "output_type": "stream",
     "text": [
      "\u001B[32mOld Variable=0.1\u001B[0m \u001B[34mOld Type=<class 'float'>\u001B[0m\n",
      "\u001B[31mNew Value=0\u001B[0m \u001B[34mNew Type=<class 'int'>\u001B[0m\n",
      "\u001B[32mOld Variable=0.1\u001B[0m \u001B[34mOld Type=<class 'float'>\u001B[0m\n",
      "\u001B[31mNew Value=0.1\u001B[0m \u001B[34mNew Type=<class 'str'>\u001B[0m\n",
      "\u001B[32mOld Variable=0.1\u001B[0m \u001B[34mOld Type=<class 'float'>\u001B[0m\n",
      "\u001B[31mNew Value=True\u001B[0m \u001B[34mNew Type=<class 'bool'>\u001B[0m\n"
     ]
    }
   ],
   "source": [
    "# change variable type y with new variables\n",
    "y_new = int(y)\n",
    "print(f\"{green}Old Variable={y}{reset} {blue}Old Type={type(y)}{reset}\")\n",
    "print(f\"{red}New Value={y_new}{reset} {blue}New Type={type(y_new)}{reset}\")\n",
    "\n",
    "y_new_2 = str(y)\n",
    "print(f\"{green}Old Variable={y}{reset} {blue}Old Type={type(y)}{reset}\")\n",
    "print(f\"{red}New Value={y_new_2}{reset} {blue}New Type={type(y_new_2)}{reset}\")\n",
    "\n",
    "y_new_3 = bool(y)\n",
    "print(f\"{green}Old Variable={y}{reset} {blue}Old Type={type(y)}{reset}\")\n",
    "print(f\"{red}New Value={y_new_3}{reset} {blue}New Type={type(y_new_3)}{reset}\")"
   ],
   "metadata": {
    "collapsed": false,
    "ExecuteTime": {
     "end_time": "2024-01-22T14:35:52.202381180Z",
     "start_time": "2024-01-22T14:35:52.200834072Z"
    }
   },
   "id": "fdd3071800deedd6",
   "execution_count": 7
  },
  {
   "cell_type": "code",
   "outputs": [
    {
     "name": "stdout",
     "output_type": "stream",
     "text": [
      "\u001B[32mOld Variable=Hello World\u001B[0m \u001B[34mOld Type=<class 'str'>\u001B[0m\n",
      "\u001B[31mNew Value=Hello World\u001B[0m \u001B[34mNew Type=<class 'str'>\u001B[0m\n",
      "\u001B[32mOld Variable=Hello World\u001B[0m \u001B[34mOld Type=<class 'str'>\u001B[0m\n",
      "\u001B[31mNew Value=True\u001B[0m \u001B[34mNew Type=<class 'bool'>\u001B[0m\n"
     ]
    }
   ],
   "source": [
    "# change variable type z with new variables\n",
    "z_new = str(z)\n",
    "print(f\"{green}Old Variable={z}{reset} {blue}Old Type={type(z)}{reset}\")\n",
    "print(f\"{red}New Value={z_new}{reset} {blue}New Type={type(z_new)}{reset}\")\n",
    "\n",
    "z_new_2 = bool(z)\n",
    "print(f\"{green}Old Variable={z}{reset} {blue}Old Type={type(z)}{reset}\")\n",
    "print(f\"{red}New Value={z_new_2}{reset} {blue}New Type={type(z_new_2)}{reset}\")"
   ],
   "metadata": {
    "collapsed": false,
    "ExecuteTime": {
     "end_time": "2024-01-22T14:35:52.202845709Z",
     "start_time": "2024-01-22T14:35:52.200969742Z"
    }
   },
   "id": "853884e03885a935",
   "execution_count": 8
  },
  {
   "cell_type": "code",
   "outputs": [
    {
     "name": "stdout",
     "output_type": "stream",
     "text": [
      "\u001B[32mOld Variable=True\u001B[0m \u001B[34mOld Type=<class 'bool'>\u001B[0m\n",
      "\u001B[31mNew Value=0\u001B[0m \u001B[34mNew Type=<class 'int'>\u001B[0m\n",
      "\u001B[32mTest Old Variable=False\u001B[0m \u001B[34mTest Old Type=<class 'bool'>\u001B[0m\n",
      "\u001B[31mTest New Value=0\u001B[0m \u001B[34mTest New Type=<class 'int'>\u001B[0m\n",
      "\u001B[32mTest Old Variable=False\u001B[0m \u001B[34mTest Old Type=<class 'bool'>\u001B[0m\n",
      "\u001B[31mTest New Value=0.0\u001B[0m \u001B[34mTest New Type=<class 'float'>\u001B[0m\n",
      "\u001B[32mOld Variable=True\u001B[0m \u001B[34mOld Type=<class 'bool'>\u001B[0m\n",
      "\u001B[31mNew Value=True\u001B[0m \u001B[34mNew Type=<class 'str'>\u001B[0m\n",
      "\u001B[32mOld Variable=True\u001B[0m \u001B[34mOld Type=<class 'bool'>\u001B[0m\n",
      "\u001B[31mNew Value=1.0\u001B[0m \u001B[34mNew Type=<class 'float'>\u001B[0m\n"
     ]
    }
   ],
   "source": [
    "# change variable type t with new variables\n",
    "\n",
    "t_new = int(y)\n",
    "print(f\"{green}Old Variable={t}{reset} {blue}Old Type={type(t)}{reset}\")\n",
    "print(f\"{red}New Value={t_new}{reset} {blue}New Type={type(t_new)}{reset}\")\n",
    "\n",
    "\n",
    "test = False\n",
    "print(f\"{green}Test Old Variable={test}{reset} {blue}Test Old Type={type(test)}{reset}\")\n",
    "print(f\"{red}Test New Value={int(test)}{reset} {blue}Test New Type={type(int(test))}{reset}\")\n",
    "\n",
    "print(f\"{green}Test Old Variable={test}{reset} {blue}Test Old Type={type(test)}{reset}\")\n",
    "print(f\"{red}Test New Value={float(test)}{reset} {blue}Test New Type={type(float(test))}{reset}\")\n",
    "\n",
    "t_new_2 = str(t)\n",
    "print(f\"{green}Old Variable={t}{reset} {blue}Old Type={type(t)}{reset}\")\n",
    "print(f\"{red}New Value={t_new_2}{reset} {blue}New Type={type(t_new_2)}{reset}\")\n",
    "\n",
    "t_new_3 = float(t)\n",
    "print(f\"{green}Old Variable={t}{reset} {blue}Old Type={type(t)}{reset}\")\n",
    "print(f\"{red}New Value={t_new_3}{reset} {blue}New Type={type(t_new_3)}{reset}\")"
   ],
   "metadata": {
    "collapsed": false,
    "ExecuteTime": {
     "end_time": "2024-01-22T14:35:52.203321818Z",
     "start_time": "2024-01-22T14:35:52.201077082Z"
    }
   },
   "id": "f547d6742c6fcb78",
   "execution_count": 9
  },
  {
   "cell_type": "markdown",
   "source": [
    "## Ödev 2\n",
    "**İsimlerden oluşan üç değişkene yaş değerleri atanır. Belirlenen üç değişken birbiriyle karşılaştırma operatörleri ile karşılaştırılır. Bu karşılaştırmalara mantıksal operatörler de eklenir.**\n"
   ],
   "metadata": {
    "collapsed": false
   },
   "id": "664a404c9c375ebc"
  },
  {
   "cell_type": "code",
   "outputs": [],
   "source": [
    "ahmet = 15\n",
    "mehmet = 22\n",
    "veli = 29"
   ],
   "metadata": {
    "collapsed": false,
    "ExecuteTime": {
     "end_time": "2024-01-22T14:35:52.203997457Z",
     "start_time": "2024-01-22T14:35:52.201223361Z"
    }
   },
   "id": "ed882907fbfb8afb",
   "execution_count": 10
  },
  {
   "cell_type": "code",
   "outputs": [
    {
     "name": "stdout",
     "output_type": "stream",
     "text": [
      "\u001B[32mTrue or False= False\u001B[0m\n"
     ]
    }
   ],
   "source": [
    "comprasion = ahmet == mehmet or ahmet == veli or mehmet == veli\n",
    "print(f\"{green}True or False= {comprasion}{reset}\")"
   ],
   "metadata": {
    "collapsed": false,
    "ExecuteTime": {
     "end_time": "2024-01-22T14:35:52.204774936Z",
     "start_time": "2024-01-22T14:35:52.201297211Z"
    }
   },
   "id": "8aad34b7e4e880b",
   "execution_count": 11
  },
  {
   "cell_type": "markdown",
   "source": [
    "## 3. Ödev\n",
    "**Kullanıcıdan iki değer girmesini istenir. Girilen değerlerin toplama, çıkarma, çarpma, bölme sonuçlarını yazdırılır.**"
   ],
   "metadata": {
    "collapsed": false
   },
   "id": "44dc922fb01a9d05"
  },
  {
   "cell_type": "code",
   "outputs": [
    {
     "name": "stdout",
     "output_type": "stream",
     "text": [
      "\u001B[34mAddition-> (1 + 0) = 1\n",
      "Subtraction-> (1 - 0) = 1\n",
      "Multiplication-> (1 * 0) = 0\n",
      "\u001B[31mIt cannot be divided by zero\u001B[0m\n"
     ]
    }
   ],
   "source": [
    "while True:\n",
    "    try:\n",
    "        input1 = input(\"Enter your first number: \")\n",
    "        input2 = input(\"Enter your second number: \")\n",
    "        if input1.isnumeric() and input2.isnumeric():\n",
    "            input1 = int(input1)\n",
    "            input2 = int(input2)\n",
    "            break\n",
    "    except ValueError:\n",
    "        print(\"Please just enter the numbers!\")\n",
    "\n",
    "            \n",
    "\n",
    "print(f\"{blue}Addition-> ({input1} + {input2}) = {input1 + input2}\")\n",
    "print(f\"Subtraction-> ({input1} - {input2}) = {input1 - input2}\")\n",
    "print(f\"Multiplication-> ({input1} * {input2}) = {input1 * input2}\")\n",
    "try:\n",
    "    print(f\"Division-> ({input1} / {input2}) = {input1 / input2}\")\n",
    "except ZeroDivisionError:\n",
    "    print(f\"{red}It cannot be divided by zero{reset}\")"
   ],
   "metadata": {
    "collapsed": false,
    "ExecuteTime": {
     "end_time": "2024-01-22T14:36:00.580046372Z",
     "start_time": "2024-01-22T14:35:52.201353421Z"
    }
   },
   "id": "e87b360f92387ef6",
   "execution_count": 12
  },
  {
   "cell_type": "code",
   "outputs": [
    {
     "name": "stdout",
     "output_type": "stream",
     "text": [
      "\u001B[34mAnd Gate-> (1 & 0) = 0\n",
      "Or Gate-> (1 | 0) = 1\n",
      "Equals-> (1 == 0) = False\n",
      "\u001B[31mIt cannot be divided by zero\u001B[0m\n"
     ]
    }
   ],
   "source": [
    "# Other\n",
    "print(f\"{blue}And Gate-> ({input1} & {input2}) = {input1 & input2}\")\n",
    "print(f\"Or Gate-> ({input1} | {input2}) = {input1 | input2}\")\n",
    "print(f\"Equals-> ({input1} == {input2}) = {input1 == input2}\")\n",
    "try:\n",
    "    print(f\"Mod-> ({input1} % {input2}) = {input1 % input2}\")\n",
    "except ZeroDivisionError:\n",
    "    print(f\"{red}It cannot be divided by zero{reset}\")"
   ],
   "metadata": {
    "collapsed": false,
    "ExecuteTime": {
     "end_time": "2024-01-22T14:36:00.624949859Z",
     "start_time": "2024-01-22T14:36:00.581027371Z"
    }
   },
   "id": "2d66a11c7dcf7f0f",
   "execution_count": 13
  },
  {
   "cell_type": "markdown",
   "source": [
    "## 4. Ödev\n",
    "**Kullanıcıdan isim, yaş, şehir ve meslek bilgilerini istenir ve cevaplarını yazdırılır.**"
   ],
   "metadata": {
    "collapsed": false
   },
   "id": "ce601fee4ae7aacc"
  },
  {
   "cell_type": "code",
   "outputs": [],
   "source": [
    "name = None\n",
    "age = None\n",
    "city = None\n",
    "career = None\n",
    "\n",
    "\n",
    "def StrControl(value):\n",
    "    if all(c.isalpha() or c.isspace() for c in value):\n",
    "        return True\n",
    "    return False\n",
    "\n",
    "while True:\n",
    "    try:\n",
    "        name = input(\"Name: \")\n",
    "        age = input(\"Age: \")\n",
    "        city = input(\"City: \")\n",
    "        career = input(\"Career: \")\n",
    "        if StrControl(name) and StrControl(career) and StrControl(city) and age.isdigit():\n",
    "            break\n",
    "    except ValueError:\n",
    "        if not name.isalpha():\n",
    "             print(f\"{red}Invalid value {name} must be str this type {type(name)}{reset}\")\n",
    "        if not city.isalpha():\n",
    "             print(f\"{red}Invalid value {city} must be str this type {type(city)}{reset}\")\n",
    "        if not career.isalpha():\n",
    "             print(f\"{red}Invalid value {career} must be str this type {type(career)}{reset}\")\n",
    "        if not age.isnumeric():\n",
    "             print(f\"{red}Invalid value {age} must be int this type {type(age)}{reset}\")   "
   ],
   "metadata": {
    "collapsed": false,
    "ExecuteTime": {
     "end_time": "2024-01-22T14:36:09.870465601Z",
     "start_time": "2024-01-22T14:36:00.624615130Z"
    }
   },
   "id": "639d226e7e58e160",
   "execution_count": 14
  },
  {
   "cell_type": "code",
   "outputs": [
    {
     "name": "stdout",
     "output_type": "stream",
     "text": [
      "Name: Onur, Age: 21, City: İstanbul, Career: Software Developer\n"
     ]
    }
   ],
   "source": [
    "print(f\"Name: {name}, Age: {age}, City: {city}, Career: {career}\")"
   ],
   "metadata": {
    "collapsed": false,
    "ExecuteTime": {
     "end_time": "2024-01-22T14:36:09.874408376Z",
     "start_time": "2024-01-22T14:36:09.870898210Z"
    }
   },
   "id": "e1d2a4feb00dfcc7",
   "execution_count": 15
  },
  {
   "cell_type": "markdown",
   "source": [
    "## 5. Ödev:\n",
    "**\"Hi-Kod Veri Bilimi Atölyesi\" ifadesini bir değişkene tanımlanır.**"
   ],
   "metadata": {
    "collapsed": false
   },
   "id": "7c85a4257007b63"
  },
  {
   "cell_type": "code",
   "outputs": [],
   "source": [
    "variable = \"Hi-Kod Veri Bilimi Atölyesi\"\n",
    "\n",
    "first = variable[:6]\n",
    "second = variable[7:11]\n",
    "third = variable[12:18]\n",
    "fourth = variable[19:]"
   ],
   "metadata": {
    "collapsed": false,
    "ExecuteTime": {
     "end_time": "2024-01-22T14:36:09.917982678Z",
     "start_time": "2024-01-22T14:36:09.916630400Z"
    }
   },
   "id": "269a4ab89ce3cb1a",
   "execution_count": 16
  },
  {
   "cell_type": "code",
   "outputs": [
    {
     "name": "stdout",
     "output_type": "stream",
     "text": [
      "'Hi-Kod'\n",
      "'Veri'\n",
      "'Bilimi'\n",
      "'Atölyesi'\n"
     ]
    }
   ],
   "source": [
    "print(f\"'{first}'\")\n",
    "print(f\"'{second}'\")\n",
    "print(f\"'{third}'\")\n",
    "print(f\"'{fourth}'\")"
   ],
   "metadata": {
    "collapsed": false,
    "ExecuteTime": {
     "end_time": "2024-01-22T14:36:09.918197157Z",
     "start_time": "2024-01-22T14:36:09.916734879Z"
    }
   },
   "id": "17532625b6ccace0",
   "execution_count": 17
  },
  {
   "cell_type": "code",
   "outputs": [],
   "source": [
    "variable_upper = variable.upper()\n",
    "variable_lower = variable.lower()"
   ],
   "metadata": {
    "collapsed": false,
    "ExecuteTime": {
     "end_time": "2024-01-22T14:36:09.918680707Z",
     "start_time": "2024-01-22T14:36:09.916837119Z"
    }
   },
   "id": "a7c8461a3c10d36b",
   "execution_count": 18
  },
  {
   "cell_type": "code",
   "outputs": [
    {
     "name": "stdout",
     "output_type": "stream",
     "text": [
      "UPPER = 'HI-KOD VERI BILIMI ATÖLYESI'\n",
      "LOWER = 'hi-kod veri bilimi atölyesi'\n"
     ]
    }
   ],
   "source": [
    "print(f\"UPPER = '{variable_upper}'\")\n",
    "print(f\"LOWER = '{variable_lower}'\")"
   ],
   "metadata": {
    "collapsed": false,
    "ExecuteTime": {
     "end_time": "2024-01-22T14:36:09.919221046Z",
     "start_time": "2024-01-22T14:36:09.916899969Z"
    }
   },
   "id": "12996bd3fe9a24a9",
   "execution_count": 19
  },
  {
   "cell_type": "markdown",
   "source": [
    "**\"0123456789\" ifadesindeki yalnızca çift sayıları ve yalnızca tek sayıları seçilir. (\"02468\", \"13579\")**"
   ],
   "metadata": {
    "collapsed": false
   },
   "id": "3afceb721259e352"
  },
  {
   "cell_type": "code",
   "outputs": [],
   "source": [
    "numbers = \"0123456789\""
   ],
   "metadata": {
    "collapsed": false,
    "ExecuteTime": {
     "end_time": "2024-01-22T14:36:09.919719045Z",
     "start_time": "2024-01-22T14:36:09.917009179Z"
    }
   },
   "id": "37221a1e24062821",
   "execution_count": 20
  },
  {
   "cell_type": "code",
   "outputs": [],
   "source": [
    "getter_even_and_odd = lambda s: (\n",
    "    ''.join(filter(lambda c: int(c) % 2 == 0, s)),\n",
    "    ''.join(filter(lambda c: int(c) % 2 != 0, s))\n",
    ")"
   ],
   "metadata": {
    "collapsed": false,
    "ExecuteTime": {
     "end_time": "2024-01-22T14:36:09.920185214Z",
     "start_time": "2024-01-22T14:36:09.917073709Z"
    }
   },
   "id": "2f8cc7859d448fd2",
   "execution_count": 21
  },
  {
   "cell_type": "code",
   "outputs": [],
   "source": [
    "even, odd = getter_even_and_odd(numbers)"
   ],
   "metadata": {
    "collapsed": false,
    "ExecuteTime": {
     "end_time": "2024-01-22T14:36:09.921072053Z",
     "start_time": "2024-01-22T14:36:09.917176149Z"
    }
   },
   "id": "48fa4e1d2f3847a0",
   "execution_count": 22
  },
  {
   "cell_type": "code",
   "outputs": [
    {
     "name": "stdout",
     "output_type": "stream",
     "text": [
      "EVEN = 02468, ODD = 13579\n"
     ]
    }
   ],
   "source": [
    "print(f\"EVEN = {even}, ODD = {odd}\")"
   ],
   "metadata": {
    "collapsed": false,
    "ExecuteTime": {
     "end_time": "2024-01-22T14:36:09.921641612Z",
     "start_time": "2024-01-22T14:36:09.917238319Z"
    }
   },
   "id": "1475aaec84d7de84",
   "execution_count": 23
  }
 ],
 "metadata": {
  "kernelspec": {
   "display_name": "Python 3",
   "language": "python",
   "name": "python3"
  },
  "language_info": {
   "codemirror_mode": {
    "name": "ipython",
    "version": 2
   },
   "file_extension": ".py",
   "mimetype": "text/x-python",
   "name": "python",
   "nbconvert_exporter": "python",
   "pygments_lexer": "ipython2",
   "version": "2.7.6"
  }
 },
 "nbformat": 4,
 "nbformat_minor": 5
}
